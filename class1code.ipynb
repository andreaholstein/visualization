{
 "cells": [
  {
   "cell_type": "code",
   "execution_count": 1,
   "id": "c92592a8",
   "metadata": {},
   "outputs": [],
   "source": [
    "import numpy as np\n",
    "import matplotlib.pyplot as plt\n",
    "import pandas as pd"
   ]
  },
  {
   "cell_type": "code",
   "execution_count": 11,
   "id": "abae15df",
   "metadata": {},
   "outputs": [
    {
     "data": {
      "text/plain": [
       "(array([4., 6., 2., 5., 7., 6., 4., 3., 9., 4.]),\n",
       " array([ 6. , 15.2, 24.4, 33.6, 42.8, 52. , 61.2, 70.4, 79.6, 88.8, 98. ]),\n",
       " <BarContainer object of 10 artists>)"
      ]
     },
     "execution_count": 11,
     "metadata": {},
     "output_type": "execute_result"
    },
    {
     "data": {
      "image/png": "[encoded data removed]",
      "text/plain": [
       "<Figure size 500x300 with 1 Axes>"
      ]
     },
     "metadata": {},
     "output_type": "display_data"
    }
   ],
   "source": [
    "np.random.seed(613)\n",
    "x = np.arange(50)\n",
    "y = np.random.randint(0, 100, 50)\n",
    "\n",
    "# making a figure, putting an axes in this, and set the size of the figure\n",
    "fig, ax = plt.subplots(figsize=(5,3))\n",
    "\n",
    "# how we want our data to look\n",
    "\n",
    "# scatterplot\n",
    "#ax.scatter(x,y)\n",
    "# bar graph\n",
    "#ax.bar(x,y)\n",
    "#  horizontal bar graph\n",
    "# ax.barh(x,y)\n",
    "#  line graph\n",
    "#ax.plot(x,y)\n",
    "#  histogram\n",
    "ax.hist(y)"
   ]
  },
  {
   "cell_type": "code",
   "execution_count": null,
   "id": "117fdf46",
   "metadata": {},
   "outputs": [],
   "source": [
    "fig, ax = plt.subplots(figsize=(5,3))\n",
    "ax.plot(x,y)\n",
    "\n",
    "ax.set_title('Total growth over time')\n",
    "ax.set_ylabel('Total growth')\n",
    "ax.set_xlabel('Years since start')"
   ]
  }
 ],
 "metadata": {
  "kernelspec": {
   "display_name": "dsi_participant",
   "language": "python",
   "name": "python3"
  },
  "language_info": {
   "codemirror_mode": {
    "name": "ipython",
    "version": 3
   },
   "file_extension": ".py",
   "mimetype": "text/x-python",
   "name": "python",
   "nbconvert_exporter": "python",
   "pygments_lexer": "ipython3",
   "version": "3.9.15"
  }
 },
 "nbformat": 4,
 "nbformat_minor": 5
}
