{
 "cells": [
  {
   "cell_type": "code",
   "execution_count": 5,
   "id": "d38d3853",
   "metadata": {},
   "outputs": [],
   "source": [
    "import numpy as np \n",
    "import matplotlib.pyplot as plt\n",
    "import pandas as pd \n",
    "import scipy\n",
    "import PIL\n",
    "import requests\n",
    "import os\n",
    "import sys\n"
   ]
  },
  {
   "cell_type": "code",
   "execution_count": 6,
   "id": "b2bb7b93",
   "metadata": {},
   "outputs": [],
   "source": [
    "sys.path.append(os.getenv('SRC_DIR'))"
   ]
  },
  {
   "cell_type": "code",
   "execution_count": 7,
   "id": "14d322ec",
   "metadata": {},
   "outputs": [],
   "source": [
    "columns = ['Year', 'BranchCode', 'Registrations']"
   ]
  },
  {
   "cell_type": "markdown",
   "id": "49402214",
   "metadata": {},
   "source": [
    "> What software did you use to create your data visualization?\n",
    "\n",
    "  > Who is your intended audience?\n",
    "\n",
    "  > What information or message are you trying to convey with your visualization?\n",
    "\n",
    "  > What aspects of design did you consider when making your visualization? How did you apply them? With what elements of your plots?\n",
    "\n",
    "  > How did you ensure that your data visualizations are reproducible? If the tool you used to make your data visualization is not reproducible, how will this impact your data visualization?\n",
    "\n",
    "  > How did you ensure that your data visualization is accessible?\n",
    "\n",
    "  > Who are the individuals and communities who might be impacted by your visualization?\n",
    "\n",
    "  > How did you choose which features of your chosen dataset to include or exclude from your visualization?\n",
    "\n",
    "  > What ‘underwater labour’ contributed to your final data visualization product?"
   ]
  }
 ],
 "metadata": {
  "kernelspec": {
   "display_name": "dsi_participant",
   "language": "python",
   "name": "python3"
  },
  "language_info": {
   "codemirror_mode": {
    "name": "ipython",
    "version": 3
   },
   "file_extension": ".py",
   "mimetype": "text/x-python",
   "name": "python",
   "nbconvert_exporter": "python",
   "pygments_lexer": "ipython3",
   "version": "3.9.15"
  }
 },
 "nbformat": 4,
 "nbformat_minor": 5
}
